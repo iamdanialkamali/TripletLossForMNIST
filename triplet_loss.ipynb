{
  "nbformat": 4,
  "nbformat_minor": 0,
  "metadata": {
    "colab": {
      "name": "triplet loss.ipynb",
      "provenance": [],
      "collapsed_sections": [],
      "include_colab_link": true
    },
    "kernelspec": {
      "name": "python3",
      "display_name": "Python 3"
    },
    "accelerator": "GPU"
  },
  "cells": [
    {
      "cell_type": "markdown",
      "metadata": {
        "id": "view-in-github",
        "colab_type": "text"
      },
      "source": [
        "<a href=\"https://colab.research.google.com/github/iamdanialkamali/TripletLossForMNIST/blob/master/triplet_loss.ipynb\" target=\"_parent\"><img src=\"https://colab.research.google.com/assets/colab-badge.svg\" alt=\"Open In Colab\"/></a>"
      ]
    },
    {
      "cell_type": "code",
      "metadata": {
        "id": "0yiPYiHvvHbD",
        "colab_type": "code",
        "colab": {}
      },
      "source": [
        "import numpy as np\n",
        "import tensorflow as tf\n",
        "\n",
        "VECTOR_SIZE = 32\n"
      ],
      "execution_count": null,
      "outputs": []
    },
    {
      "cell_type": "code",
      "metadata": {
        "id": "KZlcPjcFs9bA",
        "colab_type": "code",
        "colab": {
          "base_uri": "https://localhost:8080/",
          "height": 34
        },
        "outputId": "78ccf3c4-020d-4480-81c2-39ae91f14be6"
      },
      "source": [
        "from keras.datasets import cifar10\n",
        "\n",
        "(x_train, y_train), (x_test, y_test) = cifar10.load_data()"
      ],
      "execution_count": null,
      "outputs": [
        {
          "output_type": "stream",
          "text": [
            "Using TensorFlow backend.\n"
          ],
          "name": "stderr"
        }
      ]
    },
    {
      "cell_type": "code",
      "metadata": {
        "id": "-M4_3VlLx-Hx",
        "colab_type": "code",
        "colab": {}
      },
      "source": [
        "import random\n",
        "\n",
        "def data_generator(x, y, batch_size=32):\n",
        "  n_classes = 10\n",
        "\n",
        "  class_ids = [None] * n_classes\n",
        "  for n in range(n_classes):\n",
        "    class_ids[n] = np.where(y == n)[0]\n",
        "\n",
        "  while True:\n",
        "    X_batch_0 = np.empty((batch_size, 32, 32, 3), dtype=np.float32)\n",
        "    X_batch_1 = np.empty((batch_size, 32, 32, 3), dtype=np.float32)\n",
        "    X_batch_2 = np.empty((batch_size, 32, 32, 3), dtype=np.float32)\n",
        "\n",
        "    for i in range(batch_size):\n",
        "      tgt_class = random.randint(0, n_classes - 1)\n",
        "      neg_class = random.randint(0, n_classes - 2)\n",
        "      if neg_class == tgt_class:\n",
        "        neg_class = n_classes - 1\n",
        "      a = random.randint(0, class_ids[tgt_class].size - 1)\n",
        "      p = random.randint(0, class_ids[tgt_class].size - 2)\n",
        "      if p == a:\n",
        "        p = class_ids[tgt_class].size - 1\n",
        "      n = random.randint(0, class_ids[neg_class].size - 1)\n",
        "      idx_a = class_ids[tgt_class][a]\n",
        "      idx_p = class_ids[tgt_class][p]\n",
        "      idx_n = class_ids[neg_class][n]\n",
        "      X_batch_0[i] = x[idx_a] / 256\n",
        "      X_batch_1[i] = x[idx_p] / 256\n",
        "      X_batch_2[i] = x[idx_n] / 256\n",
        "\n",
        "    yield [X_batch_0, X_batch_1, X_batch_2], np.empty((batch_size, VECTOR_SIZE * 3))\n"
      ],
      "execution_count": null,
      "outputs": []
    },
    {
      "cell_type": "code",
      "metadata": {
        "id": "B8atj5TfNoGL",
        "colab_type": "code",
        "colab": {}
      },
      "source": [
        "gen = data_generator(x_train, y_train)\n",
        "X_list, _ = next(gen)"
      ],
      "execution_count": null,
      "outputs": []
    },
    {
      "cell_type": "code",
      "metadata": {
        "id": "jnQ_3XNj5CsG",
        "colab_type": "code",
        "colab": {
          "base_uri": "https://localhost:8080/",
          "height": 150
        },
        "outputId": "b7002ab8-8736-44c7-effc-575693104215"
      },
      "source": [
        "%matplotlib inline\n",
        "import matplotlib.pyplot as plt\n",
        "\n",
        "INDEX = 16\n",
        "fig, axes = plt.subplots(1, 3)\n",
        "for i, ax in enumerate(axes):\n",
        "  ax.imshow(X_list[i][INDEX])\n",
        "plt.show()"
      ],
      "execution_count": null,
      "outputs": [
        {
          "output_type": "display_data",
          "data": {
            "image/png": "[encoded data removed]",
            "text/plain": [
              "<Figure size 432x288 with 3 Axes>"
            ]
          },
          "metadata": {
            "tags": []
          }
        }
      ]
    },
    {
      "cell_type": "code",
      "metadata": {
        "id": "x59yvEFrOFNL",
        "colab_type": "code",
        "colab": {
          "base_uri": "https://localhost:8080/",
          "height": 1159
        },
        "outputId": "e3fd4450-7fab-4955-99ee-c76c3358b61b"
      },
      "source": [
        "from tensorflow import keras\n",
        "from tensorflow.keras.layers import *\n",
        "from tensorflow.keras.models import Model, Sequential\n",
        "from tensorflow.keras import backend as K\n",
        "\n",
        "img_width = 32\n",
        "img_height = 32\n",
        "img_colors = 3\n",
        "\n",
        "margin = 1.0\n",
        "\n",
        "def triplet_loss(y_true, y_pred):\n",
        "    \"\"\" ignore y_true\n",
        "    \"\"\"\n",
        "    anchor_vec = y_pred[:, :VECTOR_SIZE]\n",
        "    positive_vec = y_pred[:, VECTOR_SIZE:2*VECTOR_SIZE]\n",
        "    negative_vec = y_pred[:, 2*VECTOR_SIZE:]\n",
        "    d1 = keras.losses.cosine_proximity(anchor_vec, positive_vec)\n",
        "#     d1 = K.print_tensor(d1, message='d1=')\n",
        "    d2 = keras.losses.cosine_proximity(anchor_vec, negative_vec)\n",
        "#     d2 = K.print_tensor(d2, message='d2=')\n",
        "    return K.clip(d2 - d1 + margin, 0, None)\n",
        "\n",
        "def cos_sim_pos(y_true, y_pred):\n",
        "    \"\"\" Cosine similarity between anchor and positive sample\n",
        "        Higher value is better.\n",
        "    \"\"\"\n",
        "    anchor_vec = y_pred[:, :VECTOR_SIZE]\n",
        "    positive_vec = y_pred[:, VECTOR_SIZE:2*VECTOR_SIZE]\n",
        "    d1 = keras.losses.cosine_proximity(anchor_vec, positive_vec)\n",
        "    return d1\n",
        "\n",
        "def cos_sim_neg(y_true, y_pred):\n",
        "    \"\"\" Cosine similarity between anchor and negative sample\n",
        "        Lower value is better.\n",
        "    \"\"\"\n",
        "    anchor_vec = y_pred[:, :VECTOR_SIZE]\n",
        "    negative_vec = y_pred[:, 2*VECTOR_SIZE:]\n",
        "    d2 = keras.losses.cosine_proximity(anchor_vec, negative_vec)\n",
        "    return d2\n",
        "\n",
        "\n",
        "def make_image_model():\n",
        "  model = Sequential()\n",
        "  model.add(Conv2D(32, (3, 3), padding='same',\n",
        "                 input_shape=(img_width, img_height, img_colors)))\n",
        "  model.add(Activation('relu'))\n",
        "  model.add(Conv2D(32, (3, 3)))\n",
        "  model.add(Activation('relu'))\n",
        "  model.add(MaxPooling2D(pool_size=(2, 2)))\n",
        "  model.add(Dropout(0.25))\n",
        "\n",
        "  model.add(Conv2D(64, (3, 3), padding='same'))\n",
        "  model.add(Activation('relu'))\n",
        "  model.add(Conv2D(64, (3, 3)))\n",
        "  model.add(Activation('relu'))\n",
        "  model.add(MaxPooling2D(pool_size=(2, 2)))\n",
        "  model.add(Dropout(0.25))\n",
        "\n",
        "  model.add(Flatten())\n",
        "  model.add(Dense(512))\n",
        "  model.add(Activation('relu'))\n",
        "#   model.add(Dropout(0.5))\n",
        "  model.add(Dense(VECTOR_SIZE))\n",
        "  return model\n",
        "\n",
        "def make_image_model_small():\n",
        "  inp = Input(shape=(img_width, img_height, img_colors))\n",
        "  l1 = Conv2D(16, (3, 3))(inp)\n",
        "  l1 = MaxPooling2D()(l1)\n",
        "  l2 = Conv2D(32, (2, 2))(l1)\n",
        "  l2 = MaxPooling2D()(l2)\n",
        "  l3 = Conv2D(64, (2, 2))(l2)\n",
        "  l3 = MaxPooling2D()(l3)\n",
        "  conv_out = Flatten()(l3)\n",
        "  out = Dense(VECTOR_SIZE)(conv_out)\n",
        "  model = Model(inp, out)\n",
        "  return model\n",
        "\n",
        "def make_siamese_model(img_model):\n",
        "  anchor = Input(shape=(img_width, img_height, img_colors))\n",
        "  positive = Input(shape=(img_width, img_height, img_colors))\n",
        "  negative = Input(shape=(img_width, img_height, img_colors))\n",
        "  anchor_vec = img_model(anchor)\n",
        "  positive_vec = img_model(positive)\n",
        "  negative_vec = img_model(negative)\n",
        "  vecs = Concatenate(axis=1, name='vectors')([anchor_vec, positive_vec, negative_vec])\n",
        "  model = Model([anchor, positive, negative], vecs)\n",
        "  model.compile('adam', triplet_loss, metrics=[cos_sim_pos, cos_sim_neg])\n",
        "  return model\n",
        "\n",
        "tf.set_random_seed(42)\n",
        "img_model = make_image_model()\n",
        "train_model = make_siamese_model(img_model)\n",
        "img_model.summary()\n",
        "train_model.summary()"
      ],
      "execution_count": null,
      "outputs": [
        {
          "output_type": "stream",
          "text": [
            "WARNING: Logging before flag parsing goes to stderr.\n",
            "W0624 07:59:28.298809 139782001362816 deprecation.py:506] From /usr/local/lib/python3.6/dist-packages/tensorflow/python/ops/init_ops.py:1251: calling VarianceScaling.__init__ (from tensorflow.python.ops.init_ops) with dtype is deprecated and will be removed in a future version.\n",
            "Instructions for updating:\n",
            "Call initializer instance with the dtype argument instead of passing it to the constructor\n"
          ],
          "name": "stderr"
        },
        {
          "output_type": "stream",
          "text": [
            "Model: \"sequential\"\n",
            "_________________________________________________________________\n",
            "Layer (type)                 Output Shape              Param #   \n",
            "=================================================================\n",
            "conv2d (Conv2D)              (None, 32, 32, 32)        896       \n",
            "_________________________________________________________________\n",
            "activation (Activation)      (None, 32, 32, 32)        0         \n",
            "_________________________________________________________________\n",
            "conv2d_1 (Conv2D)            (None, 30, 30, 32)        9248      \n",
            "_________________________________________________________________\n",
            "activation_1 (Activation)    (None, 30, 30, 32)        0         \n",
            "_________________________________________________________________\n",
            "max_pooling2d (MaxPooling2D) (None, 15, 15, 32)        0         \n",
            "_________________________________________________________________\n",
            "dropout (Dropout)            (None, 15, 15, 32)        0         \n",
            "_________________________________________________________________\n",
            "conv2d_2 (Conv2D)            (None, 15, 15, 64)        18496     \n",
            "_________________________________________________________________\n",
            "activation_2 (Activation)    (None, 15, 15, 64)        0         \n",
            "_________________________________________________________________\n",
            "conv2d_3 (Conv2D)            (None, 13, 13, 64)        36928     \n",
            "_________________________________________________________________\n",
            "activation_3 (Activation)    (None, 13, 13, 64)        0         \n",
            "_________________________________________________________________\n",
            "max_pooling2d_1 (MaxPooling2 (None, 6, 6, 64)          0         \n",
            "_________________________________________________________________\n",
            "dropout_1 (Dropout)          (None, 6, 6, 64)          0         \n",
            "_________________________________________________________________\n",
            "flatten (Flatten)            (None, 2304)              0         \n",
            "_________________________________________________________________\n",
            "dense (Dense)                (None, 512)               1180160   \n",
            "_________________________________________________________________\n",
            "activation_4 (Activation)    (None, 512)               0         \n",
            "_________________________________________________________________\n",
            "dense_1 (Dense)              (None, 32)                16416     \n",
            "=================================================================\n",
            "Total params: 1,262,144\n",
            "Trainable params: 1,262,144\n",
            "Non-trainable params: 0\n",
            "_________________________________________________________________\n",
            "Model: \"model\"\n",
            "__________________________________________________________________________________________________\n",
            "Layer (type)                    Output Shape         Param #     Connected to                     \n",
            "==================================================================================================\n",
            "input_1 (InputLayer)            [(None, 32, 32, 3)]  0                                            \n",
            "__________________________________________________________________________________________________\n",
            "input_2 (InputLayer)            [(None, 32, 32, 3)]  0                                            \n",
            "__________________________________________________________________________________________________\n",
            "input_3 (InputLayer)            [(None, 32, 32, 3)]  0                                            \n",
            "__________________________________________________________________________________________________\n",
            "sequential (Sequential)         (None, 32)           1262144     input_1[0][0]                    \n",
            "                                                                 input_2[0][0]                    \n",
            "                                                                 input_3[0][0]                    \n",
            "__________________________________________________________________________________________________\n",
            "vectors (Concatenate)           (None, 96)           0           sequential[1][0]                 \n",
            "                                                                 sequential[2][0]                 \n",
            "                                                                 sequential[3][0]                 \n",
            "==================================================================================================\n",
            "Total params: 1,262,144\n",
            "Trainable params: 1,262,144\n",
            "Non-trainable params: 0\n",
            "__________________________________________________________________________________________________\n"
          ],
          "name": "stdout"
        }
      ]
    },
    {
      "cell_type": "code",
      "metadata": {
        "id": "QklzEdJkXVP6",
        "colab_type": "code",
        "colab": {}
      },
      "source": [
        "# generate a single batch\n",
        "random.seed(42)\n",
        "gen = data_generator(x_train, y_train, batch_size=1)\n",
        "x_b0, y_b0 = next(gen)\n"
      ],
      "execution_count": null,
      "outputs": []
    },
    {
      "cell_type": "code",
      "metadata": {
        "id": "-JwxoYiyajM8",
        "colab_type": "code",
        "colab": {
          "base_uri": "https://localhost:8080/",
          "height": 51
        },
        "outputId": "76e6e32c-e89d-4f9e-c3ad-f60f1b5efb74"
      },
      "source": [
        "# debug code to make sure that cosine similarity matches model metrics / loss\n",
        "from sklearn.metrics.pairwise import cosine_similarity\n",
        "output = train_model.predict(x_b0)\n",
        "v1 = output[:, :VECTOR_SIZE]\n",
        "v2 = output[:, VECTOR_SIZE:2*VECTOR_SIZE]\n",
        "v3 = output[:, 2*VECTOR_SIZE:]\n",
        "print('pos', cosine_similarity(v1, v2))\n",
        "print('neg', cosine_similarity(v1, v3))"
      ],
      "execution_count": null,
      "outputs": [
        {
          "output_type": "stream",
          "text": [
            "pos [[0.9334991]]\n",
            "neg [[0.94116354]]\n"
          ],
          "name": "stdout"
        }
      ]
    },
    {
      "cell_type": "code",
      "metadata": {
        "id": "FxagJjW0ZKsQ",
        "colab_type": "code",
        "colab": {
          "base_uri": "https://localhost:8080/",
          "height": 51
        },
        "outputId": "29487240-5832-44b5-fe37-d30d40bea57b"
      },
      "source": [
        "train_model.evaluate(x_b0)"
      ],
      "execution_count": null,
      "outputs": [
        {
          "output_type": "stream",
          "text": [
            "\r1/1 [==============================] - 0s 112ms/sample - loss: 1.0077 - cos_sim_pos: 0.9335 - cos_sim_neg: 0.9412\n"
          ],
          "name": "stdout"
        },
        {
          "output_type": "execute_result",
          "data": {
            "text/plain": [
              "[1.007664442062378, 0.93349916, 0.94116354]"
            ]
          },
          "metadata": {
            "tags": []
          },
          "execution_count": 9
        }
      ]
    },
    {
      "cell_type": "code",
      "metadata": {
        "id": "NIAwEmp60Ucx",
        "colab_type": "code",
        "colab": {
          "base_uri": "https://localhost:8080/",
          "height": 1108
        },
        "outputId": "d4b7b0b2-221d-4768-bb01-584dc8c7a4d0"
      },
      "source": [
        "history = train_model.fit_generator(\n",
        "    data_generator(x_train, y_train, batch_size=64), validation_data=data_generator(x_test, y_test, batch_size=3),\n",
        "    steps_per_epoch=1000, validation_steps=200,\n",
        "    epochs=30)"
      ],
      "execution_count": null,
      "outputs": [
        {
          "output_type": "stream",
          "text": [
            "Epoch 1/30\n"
          ],
          "name": "stdout"
        },
        {
          "output_type": "stream",
          "text": [
            "W0624 07:59:31.270154 139782001362816 deprecation.py:323] From /usr/local/lib/python3.6/dist-packages/tensorflow/python/ops/math_grad.py:1250: add_dispatch_support.<locals>.wrapper (from tensorflow.python.ops.array_ops) is deprecated and will be removed in a future version.\n",
            "Instructions for updating:\n",
            "Use tf.where in 2.0, which has the same broadcast rule as np.where\n"
          ],
          "name": "stderr"
        },
        {
          "output_type": "stream",
          "text": [
            "1000/1000 [==============================] - 42s 42ms/step - loss: 0.8735 - cos_sim_pos: 0.6894 - cos_sim_neg: 0.5191 - val_loss: 0.6840 - val_cos_sim_pos: 0.5385 - val_cos_sim_neg: 0.0629\n",
            "Epoch 2/30\n",
            "1000/1000 [==============================] - 40s 40ms/step - loss: 0.6487 - cos_sim_pos: 0.5370 - cos_sim_neg: 0.0404 - val_loss: 0.6393 - val_cos_sim_pos: 0.5484 - val_cos_sim_neg: 0.0318\n",
            "Epoch 3/30\n",
            "1000/1000 [==============================] - 40s 40ms/step - loss: 0.5934 - cos_sim_pos: 0.5569 - cos_sim_neg: 0.0074 - val_loss: 0.5878 - val_cos_sim_pos: 0.5538 - val_cos_sim_neg: 0.0054\n",
            "Epoch 4/30\n",
            "1000/1000 [==============================] - 39s 39ms/step - loss: 0.5413 - cos_sim_pos: 0.5785 - cos_sim_neg: -0.0163 - val_loss: 0.4945 - val_cos_sim_pos: 0.6086 - val_cos_sim_neg: -0.0286\n",
            "Epoch 5/30\n",
            "1000/1000 [==============================] - 39s 39ms/step - loss: 0.4874 - cos_sim_pos: 0.6062 - cos_sim_neg: -0.0348 - val_loss: 0.4686 - val_cos_sim_pos: 0.5917 - val_cos_sim_neg: -0.0642\n",
            "Epoch 6/30\n",
            "1000/1000 [==============================] - 40s 40ms/step - loss: 0.4499 - cos_sim_pos: 0.6371 - cos_sim_neg: -0.0419 - val_loss: 0.4346 - val_cos_sim_pos: 0.6200 - val_cos_sim_neg: -0.0717\n",
            "Epoch 7/30\n",
            "1000/1000 [==============================] - 40s 40ms/step - loss: 0.4151 - cos_sim_pos: 0.6582 - cos_sim_neg: -0.0535 - val_loss: 0.4822 - val_cos_sim_pos: 0.6365 - val_cos_sim_neg: 0.0034\n",
            "Epoch 8/30\n",
            "1000/1000 [==============================] - 39s 39ms/step - loss: 0.3877 - cos_sim_pos: 0.6854 - cos_sim_neg: -0.0584 - val_loss: 0.4080 - val_cos_sim_pos: 0.6647 - val_cos_sim_neg: -0.0438\n",
            "Epoch 9/30\n",
            "1000/1000 [==============================] - 39s 39ms/step - loss: 0.3625 - cos_sim_pos: 0.7021 - cos_sim_neg: -0.0639 - val_loss: 0.3561 - val_cos_sim_pos: 0.6874 - val_cos_sim_neg: -0.0877\n",
            "Epoch 10/30\n",
            "1000/1000 [==============================] - 40s 40ms/step - loss: 0.3411 - cos_sim_pos: 0.7188 - cos_sim_neg: -0.0714 - val_loss: 0.3942 - val_cos_sim_pos: 0.6766 - val_cos_sim_neg: -0.0466\n",
            "Epoch 11/30\n",
            "1000/1000 [==============================] - 40s 40ms/step - loss: 0.3235 - cos_sim_pos: 0.7345 - cos_sim_neg: -0.0732 - val_loss: 0.3892 - val_cos_sim_pos: 0.6303 - val_cos_sim_neg: -0.0890\n",
            "Epoch 12/30\n",
            "1000/1000 [==============================] - 40s 40ms/step - loss: 0.3021 - cos_sim_pos: 0.7537 - cos_sim_neg: -0.0779 - val_loss: 0.4039 - val_cos_sim_pos: 0.6618 - val_cos_sim_neg: -0.0404\n",
            "Epoch 13/30\n",
            "1000/1000 [==============================] - 40s 40ms/step - loss: 0.2868 - cos_sim_pos: 0.7654 - cos_sim_neg: -0.0819 - val_loss: 0.4243 - val_cos_sim_pos: 0.6565 - val_cos_sim_neg: -0.0272\n",
            "Epoch 14/30\n",
            "1000/1000 [==============================] - 40s 40ms/step - loss: 0.2726 - cos_sim_pos: 0.7796 - cos_sim_neg: -0.0824 - val_loss: 0.3832 - val_cos_sim_pos: 0.6510 - val_cos_sim_neg: -0.0857\n",
            "Epoch 15/30\n",
            "1000/1000 [==============================] - 40s 40ms/step - loss: 0.2610 - cos_sim_pos: 0.7933 - cos_sim_neg: -0.0811 - val_loss: 0.4257 - val_cos_sim_pos: 0.6426 - val_cos_sim_neg: -0.0428\n",
            "Epoch 16/30\n",
            "1000/1000 [==============================] - 40s 40ms/step - loss: 0.2487 - cos_sim_pos: 0.8044 - cos_sim_neg: -0.0834 - val_loss: 0.3614 - val_cos_sim_pos: 0.6796 - val_cos_sim_neg: -0.0806\n",
            "Epoch 17/30\n",
            "1000/1000 [==============================] - 40s 40ms/step - loss: 0.2352 - cos_sim_pos: 0.8170 - cos_sim_neg: -0.0875 - val_loss: 0.3570 - val_cos_sim_pos: 0.6608 - val_cos_sim_neg: -0.0997\n",
            "Epoch 18/30\n",
            "1000/1000 [==============================] - 40s 40ms/step - loss: 0.2267 - cos_sim_pos: 0.8251 - cos_sim_neg: -0.0871 - val_loss: 0.4178 - val_cos_sim_pos: 0.6824 - val_cos_sim_neg: -0.0103\n",
            "Epoch 19/30\n",
            "1000/1000 [==============================] - 40s 40ms/step - loss: 0.2171 - cos_sim_pos: 0.8348 - cos_sim_neg: -0.0885 - val_loss: 0.3726 - val_cos_sim_pos: 0.6881 - val_cos_sim_neg: -0.0552\n",
            "Epoch 20/30\n",
            "1000/1000 [==============================] - 40s 40ms/step - loss: 0.2085 - cos_sim_pos: 0.8424 - cos_sim_neg: -0.0898 - val_loss: 0.3838 - val_cos_sim_pos: 0.6632 - val_cos_sim_neg: -0.0614\n",
            "Epoch 21/30\n",
            "1000/1000 [==============================] - 40s 40ms/step - loss: 0.1976 - cos_sim_pos: 0.8527 - cos_sim_neg: -0.0930 - val_loss: 0.3793 - val_cos_sim_pos: 0.6712 - val_cos_sim_neg: -0.0687\n",
            "Epoch 22/30\n",
            "1000/1000 [==============================] - 40s 40ms/step - loss: 0.1947 - cos_sim_pos: 0.8574 - cos_sim_neg: -0.0910 - val_loss: 0.4055 - val_cos_sim_pos: 0.6323 - val_cos_sim_neg: -0.0686\n",
            "Epoch 23/30\n",
            "1000/1000 [==============================] - 40s 40ms/step - loss: 0.1893 - cos_sim_pos: 0.8634 - cos_sim_neg: -0.0911 - val_loss: 0.3709 - val_cos_sim_pos: 0.6683 - val_cos_sim_neg: -0.0733\n",
            "Epoch 24/30\n",
            "1000/1000 [==============================] - 40s 40ms/step - loss: 0.1804 - cos_sim_pos: 0.8709 - cos_sim_neg: -0.0937 - val_loss: 0.4094 - val_cos_sim_pos: 0.6593 - val_cos_sim_neg: -0.0401\n",
            "Epoch 25/30\n",
            "1000/1000 [==============================] - 40s 40ms/step - loss: 0.1766 - cos_sim_pos: 0.8732 - cos_sim_neg: -0.0939 - val_loss: 0.3856 - val_cos_sim_pos: 0.6683 - val_cos_sim_neg: -0.0626\n",
            "Epoch 26/30\n",
            "1000/1000 [==============================] - 40s 40ms/step - loss: 0.1730 - cos_sim_pos: 0.8764 - cos_sim_neg: -0.0950 - val_loss: 0.3954 - val_cos_sim_pos: 0.6475 - val_cos_sim_neg: -0.0610\n",
            "Epoch 27/30\n",
            "1000/1000 [==============================] - 40s 40ms/step - loss: 0.1683 - cos_sim_pos: 0.8813 - cos_sim_neg: -0.0932 - val_loss: 0.4155 - val_cos_sim_pos: 0.6422 - val_cos_sim_neg: -0.0431\n",
            "Epoch 28/30\n",
            "1000/1000 [==============================] - 40s 40ms/step - loss: 0.1608 - cos_sim_pos: 0.8887 - cos_sim_neg: -0.0944 - val_loss: 0.3677 - val_cos_sim_pos: 0.6774 - val_cos_sim_neg: -0.0679\n",
            "Epoch 29/30\n",
            "1000/1000 [==============================] - 40s 40ms/step - loss: 0.1608 - cos_sim_pos: 0.8867 - cos_sim_neg: -0.0949 - val_loss: 0.4145 - val_cos_sim_pos: 0.6430 - val_cos_sim_neg: -0.0498\n",
            "Epoch 30/30\n",
            "1000/1000 [==============================] - 40s 40ms/step - loss: 0.1543 - cos_sim_pos: 0.8925 - cos_sim_neg: -0.0973 - val_loss: 0.3447 - val_cos_sim_pos: 0.7084 - val_cos_sim_neg: -0.0616\n"
          ],
          "name": "stdout"
        }
      ]
    },
    {
      "cell_type": "code",
      "metadata": {
        "id": "p4bmYhJwAjE5",
        "colab_type": "code",
        "colab": {
          "base_uri": "https://localhost:8080/",
          "height": 281
        },
        "outputId": "e097c2ee-ce9b-4156-81ca-626993982313"
      },
      "source": [
        "import matplotlib.pyplot as plt\n",
        "loss = history.history['loss']\n",
        "val_loss = history.history['val_loss']\n",
        "\n",
        "plt.figure()\n",
        "\n",
        "plt.plot(range(len(loss)), loss, 'bo', label='Training Loss')\n",
        "plt.plot(range(len(val_loss)), val_loss, 'b', label='Validation Loss')\n",
        "plt.title('Training and validation loss')\n",
        "plt.legend()\n",
        "\n",
        "plt.show()"
      ],
      "execution_count": null,
      "outputs": [
        {
          "output_type": "display_data",
          "data": {
            "image/png": "[encoded data removed]",
            "text/plain": [
              "<Figure size 432x288 with 1 Axes>"
            ]
          },
          "metadata": {
            "tags": []
          }
        }
      ]
    },
    {
      "cell_type": "code",
      "metadata": {
        "id": "SGdi03KJBiGx",
        "colab_type": "code",
        "colab": {}
      },
      "source": [
        "# use image model to generate image vectors\n",
        "train_vecs = img_model.predict(x_train)\n",
        "test_vecs = img_model.predict(x_test)\n",
        "\n",
        "from sklearn.metrics.pairwise import cosine_similarity\n",
        "y_sim = cosine_similarity(test_vecs, train_vecs)\n",
        "y_max = np.argmax(y_sim, axis=1)\n",
        "\n",
        "y_pred = y_train[y_max]"
      ],
      "execution_count": null,
      "outputs": []
    },
    {
      "cell_type": "code",
      "metadata": {
        "id": "BWn6kqSKCS0H",
        "colab_type": "code",
        "colab": {
          "base_uri": "https://localhost:8080/",
          "height": 306
        },
        "outputId": "e5eb695e-aa21-4932-a1f2-a846c2935776"
      },
      "source": [
        "from sklearn.metrics import classification_report\n",
        "class_names = [str(i) for i in range(10)]\n",
        "print(classification_report(y_test, y_pred, target_names=class_names))"
      ],
      "execution_count": null,
      "outputs": [
        {
          "output_type": "stream",
          "text": [
            "              precision    recall  f1-score   support\n",
            "\n",
            "           0       0.60      0.62      0.61      1000\n",
            "           1       0.68      0.68      0.68      1000\n",
            "           2       0.46      0.42      0.44      1000\n",
            "           3       0.31      0.33      0.32      1000\n",
            "           4       0.44      0.43      0.43      1000\n",
            "           5       0.38      0.40      0.39      1000\n",
            "           6       0.72      0.69      0.70      1000\n",
            "           7       0.70      0.66      0.68      1000\n",
            "           8       0.68      0.70      0.69      1000\n",
            "           9       0.61      0.62      0.62      1000\n",
            "\n",
            "    accuracy                           0.56     10000\n",
            "   macro avg       0.56      0.56      0.56     10000\n",
            "weighted avg       0.56      0.56      0.56     10000\n",
            "\n"
          ],
          "name": "stdout"
        }
      ]
    },
    {
      "cell_type": "code",
      "metadata": {
        "id": "STDRcRkrY-Xn",
        "colab_type": "code",
        "colab": {
          "base_uri": "https://localhost:8080/",
          "height": 204
        },
        "outputId": "676e3b97-cb08-41e1-fa7d-48421affad95"
      },
      "source": [
        "# Examine prediction for a specific value.\n",
        "INDEX = 16\n",
        "fig, axes = plt.subplots(1, 2)\n",
        "axes[0].imshow(x_test[INDEX])\n",
        "axes[1].imshow(x_train[y_max[INDEX]])\n",
        "plt.show()"
      ],
      "execution_count": null,
      "outputs": [
        {
          "output_type": "display_data",
          "data": {
            "image/png": "[encoded data removed]",
            "text/plain": [
              "<Figure size 432x288 with 2 Axes>"
            ]
          },
          "metadata": {
            "tags": []
          }
        }
      ]
    },
    {
      "cell_type": "code",
      "metadata": {
        "id": "5LCW4faJZjIE",
        "colab_type": "code",
        "colab": {
          "base_uri": "https://localhost:8080/",
          "height": 204
        },
        "outputId": "878aec35-1527-489a-9f52-1fda382fb762"
      },
      "source": [
        "# classes of the top K vectors most similar to test\n",
        "print('y_true:', y_test[INDEX])\n",
        "k = 10\n",
        "top_k = np.argpartition(y_sim[INDEX], -k)[-k:]\n",
        "y_train[top_k]\n"
      ],
      "execution_count": null,
      "outputs": [
        {
          "output_type": "stream",
          "text": [
            "y_true: [5]\n"
          ],
          "name": "stdout"
        },
        {
          "output_type": "execute_result",
          "data": {
            "text/plain": [
              "array([[3],\n",
              "       [3],\n",
              "       [3],\n",
              "       [5],\n",
              "       [5],\n",
              "       [5],\n",
              "       [3],\n",
              "       [5],\n",
              "       [4],\n",
              "       [5]], dtype=uint8)"
            ]
          },
          "metadata": {
            "tags": []
          },
          "execution_count": 15
        }
      ]
    }
  ]
}